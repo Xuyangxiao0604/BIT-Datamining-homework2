{
 "cells": [
  {
   "cell_type": "markdown",
   "id": "7263a445",
   "metadata": {},
   "source": [
    "# <center>互评作业二：网页浏览行为关联规则挖掘<center>"
   ]
  },
  {
   "cell_type": "markdown",
   "id": "405cba5d",
   "metadata": {},
   "source": [
    "# <center>1120193405  许阳霄  07111908班<center> "
   ]
  },
  {
   "cell_type": "markdown",
   "id": "cc390415",
   "metadata": {},
   "source": [
    "github地址为：https://github.com/Xuyangxiao0604/BIT-Datamining-homework2/upload/main"
   ]
  },
  {
   "cell_type": "markdown",
   "id": "fd829c50",
   "metadata": {},
   "source": [
    "## 一、数据预处理"
   ]
  },
  {
   "cell_type": "markdown",
   "id": "2dce4ba9",
   "metadata": {},
   "source": [
    "（1）加载数据集，探索数据集基本形状"
   ]
  },
  {
   "cell_type": "code",
   "execution_count": 3,
   "id": "40a63f34",
   "metadata": {},
   "outputs": [
    {
     "name": "stdout",
     "output_type": "stream",
     "text": [
      "anonymous-msweb.data数据集的前几行：\n",
      " ['I,4,\"www.microsoft.com\",\"created by getlog.pl\"\\n', 'T,1,\"VRoot\",0,0,\"VRoot\"\\n', 'N,0,\"0\"\\n', 'N,1,\"1\"\\n', 'T,2,\"Hide1\",0,0,\"Hide\"\\n', 'N,0,\"0\"\\n', 'N,1,\"1\"\\n', 'A,1287,1,\"International AutoRoute\",\"/autoroute\"\\n', 'A,1288,1,\"library\",\"/library\"\\n', 'A,1289,1,\"Master Chef Product Information\",\"/masterchef\"\\n']\n",
      "anonymous-msweb.test数据集的前几行：\n",
      " ['I,4,\"www.microsoft.com\",\"created by getlog.pl\"\\n', 'T,1,\"VRoot\",0,0,\"VRoot\"\\n', 'N,0,\"0\"\\n', 'N,1,\"1\"\\n', 'T,2,\"Hide1\",0,0,\"Hide\"\\n', 'N,0,\"0\"\\n', 'N,1,\"1\"\\n', 'A,1277,1,\"NetShow for PowerPoint\",\"/stream\"\\n', 'A,1253,1,\"MS Word Development\",\"/worddev\"\\n', 'A,1109,1,\"TechNet (World Wide Web Edition)\",\"/technet\"\\n']\n"
     ]
    }
   ],
   "source": [
    "import numpy as np\n",
    "import pandas as pd\n",
    "\n",
    "# 训练集和测试集数据路径\n",
    "data_path = 'anonymous-msweb.data'\n",
    "test_path = 'anonymous-msweb.test'\n",
    "\n",
    "data = open(data_path).readlines()\n",
    "test = open(test_path).readlines()\n",
    "\n",
    "# anonymous-msweb.data数据集的前几行\n",
    "print(\"anonymous-msweb.data数据集的前几行：\\n\", data[:10])\n",
    "# anonymous-msweb.test数据集的前几行\n",
    "print(\"anonymous-msweb.test数据集的前几行：\\n\", test[:10])"
   ]
  },
  {
   "cell_type": "markdown",
   "id": "fa9d7309",
   "metadata": {},
   "source": [
    "（2）统计data信息和test信息"
   ]
  },
  {
   "cell_type": "code",
   "execution_count": 4,
   "id": "ea4e4e9a",
   "metadata": {},
   "outputs": [
    {
     "name": "stdout",
     "output_type": "stream",
     "text": [
      "数据集属性A数量: 588\n",
      "数据集属性C数量: 37711\n",
      "数据集属性V数量: 113845\n"
     ]
    }
   ],
   "source": [
    "A_count = 0  # 记录属性数\n",
    "C_count = 0  # 记录case数\n",
    "V_count = 0  # 记录投票数\n",
    "Attributes = {}  # 属性与编号映射字典\n",
    "Cases = []  # 案例号\n",
    "Votes = []  # 各案例投票\n",
    "\n",
    "# 统计data数据\n",
    "for i in range(len(data)):\n",
    "    item = data[i].split(',')\n",
    "    if item[0] == 'A':\n",
    "        A_count += 1\n",
    "        Attributes[int(item[1])] = item[3]\n",
    "    if item[0] == 'C':\n",
    "        C_count += 1\n",
    "        Cases.append(int(item[1].split('\"')[1]))\n",
    "        vote = []\n",
    "        while (i < len(data) - 1):\n",
    "            i += 1\n",
    "            if data[i][0] != 'V':\n",
    "                break\n",
    "            V_count += 1\n",
    "            vote.append(int(data[i].split(',')[1]))\n",
    "        Votes.append(vote)\n",
    "\n",
    "# 统计test数据\n",
    "for i in range(len(test)):\n",
    "    item = test[i].split(',')\n",
    "    if item[0] == 'A':\n",
    "        A_count += 1\n",
    "        Attributes[int(item[1])] = item[3]\n",
    "    if item[0] == 'C':\n",
    "        C_count += 1\n",
    "        Cases.append(int(item[1].split('\"')[1]))\n",
    "        vote = []\n",
    "        while (i < len(test) - 1):\n",
    "            i += 1\n",
    "            if test[i][0] != 'V':\n",
    "                break\n",
    "            V_count += 1\n",
    "            vote.append(int(test[i].split(',')[1]))\n",
    "        Votes.append(vote)\n",
    "\n",
    "    \n",
    "# 打印基本信息\n",
    "print('数据集属性A数量:', A_count)\n",
    "print('数据集属性C数量:', C_count)\n",
    "print('数据集属性V数量:', V_count)"
   ]
  },
  {
   "cell_type": "markdown",
   "id": "e10ddd10",
   "metadata": {},
   "source": [
    "（3）属性去重"
   ]
  },
  {
   "cell_type": "code",
   "execution_count": 5,
   "id": "77d1f7d6",
   "metadata": {},
   "outputs": [
    {
     "name": "stdout",
     "output_type": "stream",
     "text": [
      "去重之后：\n",
      "所有的属性有 294 种\n",
      "所有的投票用户有 32711 个\n",
      "所有被投票的属性有 286 种\n"
     ]
    }
   ],
   "source": [
    "print(\"去重之后：\")\n",
    "# 统计属性种数\n",
    "arr_unique = set()\n",
    "for attributes in Attributes: # type: ignore\n",
    "    arr_unique.add(attributes)\n",
    "print('所有的属性有 %d 种' % len(arr_unique))\n",
    "\n",
    "# 统计属性种数\n",
    "case_unique = set()\n",
    "for case in Cases:\n",
    "    case_unique.add(case)\n",
    "print('所有的投票用户有 %d 个' % len(case_unique))\n",
    "\n",
    "# 统计投票属性种数\n",
    "vote_unique = set()\n",
    "for Vote in Votes:\n",
    "    for item in Vote:\n",
    "        vote_unique.add(item)\n",
    "print('所有被投票的属性有 %d 种' % len(vote_unique))"
   ]
  },
  {
   "cell_type": "markdown",
   "id": "029047ab",
   "metadata": {},
   "source": [
    "## 二、数据探索性分析"
   ]
  },
  {
   "cell_type": "code",
   "execution_count": 6,
   "id": "ff7be581",
   "metadata": {},
   "outputs": [
    {
     "data": {
      "image/png": "[encoded data removed]",
      "text/plain": [
       "<Figure size 640x480 with 1 Axes>"
      ]
     },
     "metadata": {},
     "output_type": "display_data"
    },
    {
     "data": {
      "image/png": "[encoded data removed]",
      "text/plain": [
       "<Figure size 640x480 with 1 Axes>"
      ]
     },
     "metadata": {},
     "output_type": "display_data"
    }
   ],
   "source": [
    "import matplotlib.pyplot as plt\n",
    "from collections import defaultdict\n",
    "\n",
    "# 数据可视化\n",
    "votes_every_attr = defaultdict(int)  # 每个属性获得的投票数\n",
    "votes_every_case = []  # 每个用户的投票数\n",
    "# 遍历数据项\n",
    "for item in Votes:\n",
    "    votes_every_case.append(len(item))\n",
    "    for attr in item:\n",
    "        votes_every_attr[attr] += 1\n",
    "# 画出不同投票数的用户的分布\n",
    "plt.rcParams['font.family'] = ['sans-serif']\n",
    "plt.rcParams['font.sans-serif'] = ['SimHei']\n",
    "\n",
    "lens, counts = np.unique(np.array(votes_every_case), return_counts=True)\n",
    "plt.bar(lens, counts / len(Votes) * 100)\n",
    "plt.title('用户投票数分布')\n",
    "plt.xlabel('投票数量')\n",
    "plt.ylabel('所占用户百分比%')\n",
    "# 画出不同属性的投票数分布\n",
    "plt.figure(2)\n",
    "attrs = list(votes_every_attr.keys())\n",
    "vote_counts = list(votes_every_attr.values())\n",
    "plt.bar(attrs, np.array(vote_counts) / len(Votes) * 100)\n",
    "plt.title('属性投票数分布')\n",
    "plt.xlabel('属性编号')\n",
    "plt.ylabel('所占投票数百分比%')\n",
    "plt.show(block=True)"
   ]
  },
  {
   "cell_type": "markdown",
   "id": "0cbf4c06",
   "metadata": {},
   "source": [
    "可以看到，用户的投票数量依次递减，对编号1000到1050之间的属性投票占比最大。"
   ]
  },
  {
   "cell_type": "markdown",
   "id": "b23f67ae",
   "metadata": {},
   "source": [
    "## 三、关联规则挖掘"
   ]
  },
  {
   "cell_type": "markdown",
   "id": "aac73a86",
   "metadata": {},
   "source": [
    "使用Apriori算法根据用户浏览记录计算频繁项集。"
   ]
  },
  {
   "cell_type": "code",
   "execution_count": 8,
   "id": "04e7a55c",
   "metadata": {},
   "outputs": [
    {
     "name": "stdout",
     "output_type": "stream",
     "text": [
      "\n",
      "频繁项集如下：\n",
      "     support                  itemsets\n",
      "6   0.331760                    (1008)\n",
      "17  0.287025                    (1034)\n",
      "4   0.259526                    (1004)\n",
      "49  0.161544              (1008, 1034)\n",
      "11  0.161279                    (1018)\n",
      "..       ...                       ...\n",
      "69  0.021214        (1018, 1035, 1003)\n",
      "26  0.020525                    (1058)\n",
      "67  0.020418        (1008, 1001, 1018)\n",
      "25  0.020312                    (1053)\n",
      "78  0.020100  (1008, 1009, 1018, 1035)\n",
      "\n",
      "[79 rows x 2 columns]\n"
     ]
    }
   ],
   "source": [
    "from mlxtend.preprocessing import TransactionEncoder\n",
    "from mlxtend.frequent_patterns import apriori, association_rules\n",
    "\n",
    "te = TransactionEncoder()  \n",
    "df_tf = te.fit_transform(Votes)  \n",
    "df = pd.DataFrame(df_tf, columns = te.columns_) # type: ignore\n",
    "\n",
    "# 计算频繁项集\n",
    "frequent_itemsets = apriori(df, min_support=0.02, use_colnames=True)\n",
    "frequent_itemsets.sort_values(by='support', ascending=False, inplace=True)\n",
    "print(\"\\n频繁项集如下：\")\n",
    "print(frequent_itemsets)  "
   ]
  },
  {
   "cell_type": "markdown",
   "id": "c7d45461",
   "metadata": {},
   "source": [
    "## 四、结果评估 "
   ]
  },
  {
   "cell_type": "markdown",
   "id": "376d6e97",
   "metadata": {},
   "source": [
    "计算关联规则的支持度、置信度和提升度，得出强关联规则。置信度阈值设置为0.8。"
   ]
  },
  {
   "cell_type": "code",
   "execution_count": 9,
   "id": "ec776b5f",
   "metadata": {},
   "outputs": [
    {
     "name": "stdout",
     "output_type": "stream",
     "text": [
      "\n",
      "关联规则如下：\n",
      "          antecedents consequents  antecedent support  consequent support  \\\n",
      "0              (1035)      (1018)            0.054281            0.161279   \n",
      "1              (1037)      (1009)            0.035719            0.140410   \n",
      "2        (1009, 1035)      (1018)            0.032696            0.161279   \n",
      "3              (1038)      (1026)            0.034446            0.099096   \n",
      "4        (1008, 1035)      (1018)            0.027127            0.161279   \n",
      "5        (1001, 1035)      (1018)            0.029275            0.161279   \n",
      "6        (1008, 1035)      (1009)            0.027127            0.140410   \n",
      "7        (1035, 1003)      (1018)            0.024104            0.161279   \n",
      "8  (1008, 1009, 1035)      (1018)            0.022354            0.161279   \n",
      "9  (1008, 1018, 1035)      (1009)            0.024396            0.140410   \n",
      "\n",
      "    support  confidence      lift  leverage  conviction  zhangs_metric  \n",
      "0  0.045584    0.839766  5.206905  0.036829    5.234334       0.854321  \n",
      "1  0.032749    0.916852  6.529824  0.027734   10.338105       0.878226  \n",
      "2  0.028400    0.868613  5.385773  0.023127    6.383597       0.841851  \n",
      "3  0.027896    0.809854  8.172436  0.024483    4.737954       0.908947  \n",
      "4  0.024396    0.899316  5.576142  0.020021    8.330208       0.843548  \n",
      "5  0.023972    0.818841  5.077162  0.019250    4.629739       0.827258  \n",
      "6  0.022354    0.824047  5.868864  0.018545    4.885337       0.852742  \n",
      "7  0.021214    0.880088  5.456922  0.017326    6.994470       0.836920  \n",
      "8  0.020100    0.899170  5.575236  0.016495    8.318137       0.839400  \n",
      "9  0.020100    0.823913  5.867910  0.016675    4.881622       0.850326  \n"
     ]
    }
   ],
   "source": [
    "# 计算关联规则\n",
    "association_rule = association_rules(frequent_itemsets, metric='confidence', min_threshold=0.8)  # 关联规则发掘，置信度阈值为0.8 \n",
    "print(\"\\n关联规则如下：\")\n",
    "print(association_rule)"
   ]
  },
  {
   "cell_type": "markdown",
   "id": "2a1da670",
   "metadata": {},
   "source": [
    "## 五、结果分析与应用 "
   ]
  },
  {
   "cell_type": "markdown",
   "id": "c51d68a1",
   "metadata": {},
   "source": [
    "由上一小节计算出的关联规则，可以根据支持度、置信度、提升度由高到低依次调节模块的前后关系，把前后支持度更高的组合放置在一起，这样可以使用户有更好的体验。"
   ]
  },
  {
   "cell_type": "code",
   "execution_count": null,
   "id": "5cd58bcd",
   "metadata": {},
   "outputs": [],
   "source": []
  }
 ],
 "metadata": {
  "kernelspec": {
   "display_name": "datamining",
   "language": "python",
   "name": "datamining"
  },
  "language_info": {
   "codemirror_mode": {
    "name": "ipython",
    "version": 3
   },
   "file_extension": ".py",
   "mimetype": "text/x-python",
   "name": "python",
   "nbconvert_exporter": "python",
   "pygments_lexer": "ipython3",
   "version": "3.10.11"
  }
 },
 "nbformat": 4,
 "nbformat_minor": 5
}
